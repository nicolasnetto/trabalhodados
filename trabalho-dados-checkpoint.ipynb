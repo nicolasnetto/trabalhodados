{
 "cells": [
  {
   "cell_type": "markdown",
   "id": "044146dd-70bc-4390-844d-8adcd8ce52c6",
   "metadata": {},
   "source": [
    "# Jupyter notebook_nicolas"
   ]
  },
  {
   "cell_type": "code",
   "execution_count": 5,
   "id": "d1e8dd4e-d1d3-4092-9baa-df8e831503b7",
   "metadata": {},
   "outputs": [
    {
     "ename": "ModuleNotFoundError",
     "evalue": "No module named 'pandas'",
     "output_type": "error",
     "traceback": [
      "\u001b[31m---------------------------------------------------------------------------\u001b[39m",
      "\u001b[31mModuleNotFoundError\u001b[39m                       Traceback (most recent call last)",
      "\u001b[36mCell\u001b[39m\u001b[36m \u001b[39m\u001b[32mIn[5]\u001b[39m\u001b[32m, line 1\u001b[39m\n\u001b[32m----> \u001b[39m\u001b[32m1\u001b[39m \u001b[38;5;28;01mimport\u001b[39;00m\u001b[38;5;250m \u001b[39m\u001b[34;01mpandas\u001b[39;00m\u001b[38;5;250m \u001b[39m\u001b[38;5;28;01mas\u001b[39;00m\u001b[38;5;250m \u001b[39m\u001b[34;01mpd\u001b[39;00m\n",
      "\u001b[31mModuleNotFoundError\u001b[39m: No module named 'pandas'"
     ]
    }
   ],
   "source": [
    "import pandas as pd"
   ]
  },
  {
   "cell_type": "code",
   "execution_count": 6,
   "id": "334b0e77-de07-46c9-9472-4d877f0b1216",
   "metadata": {},
   "outputs": [
    {
     "name": "stdout",
     "output_type": "stream",
     "text": [
      "Collecting wheel\n",
      "  Downloading wheel-0.45.1-py3-none-any.whl.metadata (2.3 kB)\n",
      "Downloading wheel-0.45.1-py3-none-any.whl (72 kB)\n",
      "Installing collected packages: wheel\n",
      "Successfully installed wheel-0.45.1\n",
      "Note: you may need to restart the kernel to use updated packages.\n"
     ]
    },
    {
     "name": "stderr",
     "output_type": "stream",
     "text": [
      "\n",
      "[notice] A new release of pip is available: 24.3.1 -> 25.0.1\n",
      "[notice] To update, run: python.exe -m pip install --upgrade pip\n"
     ]
    }
   ],
   "source": [
    "pip install wheel"
   ]
  },
  {
   "cell_type": "code",
   "execution_count": 7,
   "id": "e6d5f5a6-9f59-4733-87dd-0f04e7573d25",
   "metadata": {},
   "outputs": [
    {
     "name": "stdout",
     "output_type": "stream",
     "text": [
      "Collecting pandas\n",
      "  Downloading pandas-2.2.3-cp313-cp313-win_amd64.whl.metadata (19 kB)\n",
      "Collecting numpy>=1.26.0 (from pandas)\n",
      "  Downloading numpy-2.2.4-cp313-cp313-win_amd64.whl.metadata (60 kB)\n",
      "Requirement already satisfied: python-dateutil>=2.8.2 in c:\\users\\dyenifer\\appdata\\local\\programs\\python\\python313\\lib\\site-packages (from pandas) (2.9.0.post0)\n",
      "Collecting pytz>=2020.1 (from pandas)\n",
      "  Downloading pytz-2025.2-py2.py3-none-any.whl.metadata (22 kB)\n",
      "Collecting tzdata>=2022.7 (from pandas)\n",
      "  Downloading tzdata-2025.2-py2.py3-none-any.whl.metadata (1.4 kB)\n",
      "Requirement already satisfied: six>=1.5 in c:\\users\\dyenifer\\appdata\\local\\programs\\python\\python313\\lib\\site-packages (from python-dateutil>=2.8.2->pandas) (1.17.0)\n",
      "Downloading pandas-2.2.3-cp313-cp313-win_amd64.whl (11.5 MB)\n",
      "   ---------------------------------------- 0.0/11.5 MB ? eta -:--:--\n",
      "   ------------------------ --------------- 7.1/11.5 MB 38.2 MB/s eta 0:00:01\n",
      "   ---------------------------------------- 11.5/11.5 MB 34.8 MB/s eta 0:00:00\n",
      "Downloading numpy-2.2.4-cp313-cp313-win_amd64.whl (12.6 MB)\n",
      "   ---------------------------------------- 0.0/12.6 MB ? eta -:--:--\n",
      "   -------------------------------- ------- 10.2/12.6 MB 52.1 MB/s eta 0:00:01\n",
      "   ---------------------------------------- 12.6/12.6 MB 44.1 MB/s eta 0:00:00\n",
      "Downloading pytz-2025.2-py2.py3-none-any.whl (509 kB)\n",
      "Downloading tzdata-2025.2-py2.py3-none-any.whl (347 kB)\n",
      "Installing collected packages: pytz, tzdata, numpy, pandas\n",
      "Successfully installed numpy-2.2.4 pandas-2.2.3 pytz-2025.2 tzdata-2025.2\n",
      "Note: you may need to restart the kernel to use updated packages.\n"
     ]
    },
    {
     "name": "stderr",
     "output_type": "stream",
     "text": [
      "\n",
      "[notice] A new release of pip is available: 24.3.1 -> 25.0.1\n",
      "[notice] To update, run: python.exe -m pip install --upgrade pip\n"
     ]
    }
   ],
   "source": [
    "pip install pandas"
   ]
  },
  {
   "cell_type": "code",
   "execution_count": 8,
   "id": "b921d0a5-20f4-4043-a530-477cb99f75d1",
   "metadata": {},
   "outputs": [],
   "source": [
    "import pandas as pd"
   ]
  },
  {
   "cell_type": "code",
   "execution_count": 14,
   "id": "e803b811-77d0-4360-acef-03d7ab68218b",
   "metadata": {},
   "outputs": [
    {
     "name": "stdout",
     "output_type": "stream",
     "text": [
      "Collecting xlrd\n",
      "  Downloading xlrd-2.0.1-py2.py3-none-any.whl.metadata (3.4 kB)\n",
      "Downloading xlrd-2.0.1-py2.py3-none-any.whl (96 kB)\n",
      "Installing collected packages: xlrd\n",
      "Successfully installed xlrd-2.0.1\n",
      "Note: you may need to restart the kernel to use updated packages.\n"
     ]
    },
    {
     "name": "stderr",
     "output_type": "stream",
     "text": [
      "\n",
      "[notice] A new release of pip is available: 24.3.1 -> 25.0.1\n",
      "[notice] To update, run: python.exe -m pip install --upgrade pip\n"
     ]
    }
   ],
   "source": [
    "pip install xlrd\n"
   ]
  },
  {
   "cell_type": "code",
   "execution_count": 15,
   "id": "374219a1-c750-4033-a601-3ef55bf6377a",
   "metadata": {},
   "outputs": [],
   "source": [
    "df = pd.read_excel(r\"C:\\Users\\DYENIFER\\Downloads\\default_of_credit_card_clients__courseware_version_1_21_19.xls\")"
   ]
  },
  {
   "cell_type": "code",
   "execution_count": 16,
   "id": "1d351ce8-6389-44b3-96d1-42c28d2923ae",
   "metadata": {},
   "outputs": [
    {
     "name": "stdout",
     "output_type": "stream",
     "text": [
      "O número de colunas é: 25\n"
     ]
    }
   ],
   "source": [
    "num_colunas = df.shape[1]\n",
    "print(f'O número de colunas é: {num_colunas}')"
   ]
  },
  {
   "cell_type": "code",
   "execution_count": 17,
   "id": "60f815fb-5e09-40ee-9189-0091b0e31289",
   "metadata": {},
   "outputs": [
    {
     "name": "stdout",
     "output_type": "stream",
     "text": [
      "O número de linhas (amostras) é: 30000\n"
     ]
    }
   ],
   "source": [
    "num_linhas = df.shape[0]\n",
    "print(f'O número de linhas (amostras) é: {num_linhas}')"
   ]
  },
  {
   "cell_type": "code",
   "execution_count": 18,
   "id": "427683ab-67c2-42f4-b899-d14e7b31b7ac",
   "metadata": {},
   "outputs": [
    {
     "name": "stdout",
     "output_type": "stream",
     "text": [
      "Tipos de dados nas colunas:\n",
      "ID                            object\n",
      "LIMIT_BAL                      int64\n",
      "SEX                            int64\n",
      "EDUCATION                      int64\n",
      "MARRIAGE                       int64\n",
      "AGE                            int64\n",
      "PAY_1                         object\n",
      "PAY_2                          int64\n",
      "PAY_3                          int64\n",
      "PAY_4                          int64\n",
      "PAY_5                          int64\n",
      "PAY_6                          int64\n",
      "BILL_AMT1                      int64\n",
      "BILL_AMT2                      int64\n",
      "BILL_AMT3                      int64\n",
      "BILL_AMT4                      int64\n",
      "BILL_AMT5                      int64\n",
      "BILL_AMT6                      int64\n",
      "PAY_AMT1                       int64\n",
      "PAY_AMT2                       int64\n",
      "PAY_AMT3                       int64\n",
      "PAY_AMT4                       int64\n",
      "PAY_AMT5                       int64\n",
      "PAY_AMT6                       int64\n",
      "default payment next month     int64\n",
      "dtype: object\n"
     ]
    }
   ],
   "source": [
    "tipos_colunas = df.dtypes\n",
    "print('Tipos de dados nas colunas:')\n",
    "print(tipos_colunas)\n"
   ]
  },
  {
   "cell_type": "code",
   "execution_count": 19,
   "id": "85c46bcc-a67a-4b12-9e41-bf873527e6eb",
   "metadata": {},
   "outputs": [
    {
     "name": "stdout",
     "output_type": "stream",
     "text": [
      "Resumo estatístico das colunas numéricas:\n",
      "            LIMIT_BAL           SEX     EDUCATION      MARRIAGE           AGE  \\\n",
      "count    30000.000000  30000.000000  30000.000000  30000.000000  30000.000000   \n",
      "mean    165760.989333      1.586500      1.833333      1.535900     35.108800   \n",
      "std     130158.590432      0.513348      0.807699      0.542698      9.851592   \n",
      "min          0.000000      0.000000      0.000000      0.000000      0.000000   \n",
      "25%      50000.000000      1.000000      1.000000      1.000000     28.000000   \n",
      "50%     140000.000000      2.000000      2.000000      2.000000     34.000000   \n",
      "75%     240000.000000      2.000000      2.000000      2.000000     41.000000   \n",
      "max    1000000.000000      2.000000      6.000000      3.000000     79.000000   \n",
      "\n",
      "              PAY_2         PAY_3         PAY_4         PAY_5         PAY_6  \\\n",
      "count  30000.000000  30000.000000  30000.000000  30000.000000  30000.000000   \n",
      "mean      -0.132867     -0.164333     -0.219300     -0.263900     -0.288033   \n",
      "std        1.191215      1.191096      1.162348      1.127519      1.144981   \n",
      "min       -2.000000     -2.000000     -2.000000     -2.000000     -2.000000   \n",
      "25%       -1.000000     -1.000000     -1.000000     -1.000000     -1.000000   \n",
      "50%        0.000000      0.000000      0.000000      0.000000      0.000000   \n",
      "75%        0.000000      0.000000      0.000000      0.000000      0.000000   \n",
      "max        8.000000      8.000000      8.000000      8.000000      8.000000   \n",
      "\n",
      "       ...      BILL_AMT4      BILL_AMT5      BILL_AMT6       PAY_AMT1  \\\n",
      "count  ...   30000.000000   30000.000000   30000.000000   30000.000000   \n",
      "mean   ...   42791.362167   39884.398167   38480.350933    5613.321500   \n",
      "std    ...   64090.316188   60606.644833   59406.836932   16539.094312   \n",
      "min    ... -170000.000000  -81334.000000 -339603.000000       0.000000   \n",
      "25%    ...    2034.000000    1534.000000    1080.000000     836.000000   \n",
      "50%    ...   18759.500000   17835.500000   16643.000000    2084.500000   \n",
      "75%    ...   53572.250000   49804.000000   48863.500000    5000.000000   \n",
      "max    ...  891586.000000  927171.000000  961664.000000  873552.000000   \n",
      "\n",
      "           PAY_AMT2       PAY_AMT3       PAY_AMT4       PAY_AMT5  \\\n",
      "count  3.000000e+04   30000.000000   30000.000000   30000.000000   \n",
      "mean   5.855410e+03    5174.387967    4776.089733    4754.749200   \n",
      "std    2.299256e+04   17565.538305   15532.893047   15239.070708   \n",
      "min    0.000000e+00       0.000000       0.000000       0.000000   \n",
      "25%    7.217500e+02     371.000000     223.000000     170.750000   \n",
      "50%    2.000000e+03    1776.000000    1500.000000    1500.000000   \n",
      "75%    5.000000e+03    4500.000000    4000.000000    4000.000000   \n",
      "max    1.684259e+06  896040.000000  621000.000000  426529.000000   \n",
      "\n",
      "            PAY_AMT6  default payment next month  \n",
      "count   30000.000000                30000.000000  \n",
      "mean     5164.223267                    0.218733  \n",
      "std     17712.664703                    0.413394  \n",
      "min         0.000000                    0.000000  \n",
      "25%         9.000000                    0.000000  \n",
      "50%      1500.000000                    0.000000  \n",
      "75%      4000.000000                    0.000000  \n",
      "max    528666.000000                    1.000000  \n",
      "\n",
      "[8 rows x 23 columns]\n"
     ]
    }
   ],
   "source": [
    "resumo_numerico = df.describe()\n",
    "print('Resumo estatístico das colunas numéricas:')\n",
    "print(resumo_numerico)"
   ]
  },
  {
   "cell_type": "code",
   "execution_count": 20,
   "id": "6fc30200-b82b-4561-aba6-52eecbc3fe84",
   "metadata": {},
   "outputs": [
    {
     "name": "stdout",
     "output_type": "stream",
     "text": [
      "Frequência da coluna ID:\n",
      "ID\n",
      "7d5f3242-e1df    2\n",
      "1b22b0ab-aba3    2\n",
      "4cb27699-fe3f    2\n",
      "91c69d1a-8732    2\n",
      "bf23c70b-bf12    2\n",
      "                ..\n",
      "cb258690-8ea2    1\n",
      "f6f0307a-b75f    1\n",
      "47a4cdaa-aa20    1\n",
      "834b2cac-750e    1\n",
      "429d2c82-67ae    1\n",
      "Name: count, Length: 29687, dtype: int64\n",
      "\n",
      "\n",
      "Frequência da coluna PAY_1:\n",
      "PAY_1\n",
      "0                13402\n",
      "-1                5047\n",
      "1                 3261\n",
      "Not available     3021\n",
      "-2                2476\n",
      "2                 2378\n",
      "3                  292\n",
      "4                   63\n",
      "5                   23\n",
      "8                   17\n",
      "6                   11\n",
      "7                    9\n",
      "Name: count, dtype: int64\n",
      "\n",
      "\n"
     ]
    }
   ],
   "source": [
    "for col in df.select_dtypes(include='object').columns:\n",
    "    print(f'Frequência da coluna {col}:')\n",
    "    print(df[col].value_counts())\n",
    "    print('\\n')"
   ]
  },
  {
   "cell_type": "code",
   "execution_count": 21,
   "id": "09ae1305-e509-4b32-9c18-c782a383c6a6",
   "metadata": {},
   "outputs": [
    {
     "name": "stdout",
     "output_type": "stream",
     "text": [
      "Número de dados faltando por coluna:\n",
      "ID                            0\n",
      "LIMIT_BAL                     0\n",
      "SEX                           0\n",
      "EDUCATION                     0\n",
      "MARRIAGE                      0\n",
      "AGE                           0\n",
      "PAY_1                         0\n",
      "PAY_2                         0\n",
      "PAY_3                         0\n",
      "PAY_4                         0\n",
      "PAY_5                         0\n",
      "PAY_6                         0\n",
      "BILL_AMT1                     0\n",
      "BILL_AMT2                     0\n",
      "BILL_AMT3                     0\n",
      "BILL_AMT4                     0\n",
      "BILL_AMT5                     0\n",
      "BILL_AMT6                     0\n",
      "PAY_AMT1                      0\n",
      "PAY_AMT2                      0\n",
      "PAY_AMT3                      0\n",
      "PAY_AMT4                      0\n",
      "PAY_AMT5                      0\n",
      "PAY_AMT6                      0\n",
      "default payment next month    0\n",
      "dtype: int64\n"
     ]
    }
   ],
   "source": [
    "dados_faltando = df.isnull().sum()\n",
    "print('Número de dados faltando por coluna:')\n",
    "print(dados_faltando)"
   ]
  },
  {
   "cell_type": "code",
   "execution_count": null,
   "id": "ae092194-8f0b-4fbe-8021-803c8ae0b778",
   "metadata": {},
   "outputs": [],
   "source": []
  }
 ],
 "metadata": {
  "kernelspec": {
   "display_name": "Python 3 (ipykernel)",
   "language": "python",
   "name": "python3"
  },
  "language_info": {
   "codemirror_mode": {
    "name": "ipython",
    "version": 3
   },
   "file_extension": ".py",
   "mimetype": "text/x-python",
   "name": "python",
   "nbconvert_exporter": "python",
   "pygments_lexer": "ipython3",
   "version": "3.13.2"
  }
 },
 "nbformat": 4,
 "nbformat_minor": 5
}
